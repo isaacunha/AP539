{
  "nbformat": 4,
  "nbformat_minor": 0,
  "metadata": {
    "colab": {
      "provenance": [],
      "collapsed_sections": [],
      "mount_file_id": "1YgVxZW3a4cnj0VRgnozOqcTR1gBElIxO",
      "authorship_tag": "ABX9TyMXkBEKdU4sBu9C39fM1UTo"
    },
    "kernelspec": {
      "name": "python3",
      "display_name": "Python 3"
    },
    "language_info": {
      "name": "python"
    }
  },
  "cells": [
    {
      "cell_type": "markdown",
      "source": [
        "# Inserção de dados"
      ],
      "metadata": {
        "id": "-rPIlBQNwTdm"
      }
    },
    {
      "cell_type": "code",
      "execution_count": 1,
      "metadata": {
        "id": "bzaSsmwwvSNq"
      },
      "outputs": [],
      "source": [
        "import numpy as np\n",
        "import pandas as pd\n",
        "#importar as bibliotecas"
      ]
    },
    {
      "cell_type": "code",
      "source": [
        "data = pd.read_csv('/content/drive/MyDrive/MineracaoDeDados/soybeans1.csv', on_bad_lines='skip')"
      ],
      "metadata": {
        "id": "spT6TIcZwb7C"
      },
      "execution_count": 2,
      "outputs": []
    },
    {
      "cell_type": "code",
      "source": [
        "data2 = data\n",
        "#criando dados para manipulação"
      ],
      "metadata": {
        "id": "yryOh42M7tea"
      },
      "execution_count": 3,
      "outputs": []
    },
    {
      "cell_type": "code",
      "source": [
        "data2=data2.replace({\"?\":np.nan})"
      ],
      "metadata": {
        "id": "dxhwQHRzWU6_"
      },
      "execution_count": 4,
      "outputs": []
    },
    {
      "cell_type": "code",
      "source": [
        "from pandas.io.formats.format import math\n",
        "for column in data2.columns: #para todas as colunas, faca:\n",
        "        column_list = data2[column].tolist() # Variável que recebe a coluna como uma lista\n",
        "        is_num = False # Variável para verificar se o dados presentes nas colunas é numérico\n",
        "\n",
        "        for item in column_list: # Laço de repetição nos dados da coluna\n",
        "            if (type(item) == str): # Verifica se o tipo do dado é string (str)\n",
        "                if(item.isdigit()): # Verifica se a string é um dígito\n",
        "                    data2[column] = pd.to_numeric(data2[column]) # Muda o tipo da coluna para numérico\n",
        "                    is_num = True\n",
        "                    break\n",
        "            else:\n",
        "                if(math.isnan(float(item))): # Verifica se o valor é NaN\n",
        "                    continue\n",
        "                else:\n",
        "                    break\n",
        "        \n",
        "        if (data2[column].dtype == object and not is_num): # Verificando o tipo da coluna\n",
        "            data2[column] = data2[column].fillna(data2[column].mode()[0]) # Preenchendo os valores inconsistentes com a moda\n",
        "        else:\n",
        "            data2[column] = data2[column].fillna(data2[column].mean()) # Preenchendo os valores inconsistentes com a média"
      ],
      "metadata": {
        "id": "uWCBxft5jZ1-"
      },
      "execution_count": 5,
      "outputs": []
    },
    {
      "cell_type": "code",
      "source": [
        "print(data2)"
      ],
      "metadata": {
        "id": "s8Eu0ZyyPdDw",
        "colab": {
          "base_uri": "https://localhost:8080/"
        },
        "outputId": "81f1047f-c267-48db-971b-0f2f2e43b7fd"
      },
      "execution_count": 6,
      "outputs": [
        {
          "output_type": "stream",
          "name": "stdout",
          "text": [
            "        date plant-stand   precip     temp hail         crop-hist  \\\n",
            "0    october      normal  gt-norm     norm  yes       same-lst-yr   \n",
            "1     august      normal  gt-norm     norm  yes  same-lst-two-yrs   \n",
            "2       july      normal  gt-norm     norm  yes       same-lst-yr   \n",
            "3       july      normal  gt-norm     norm  yes       same-lst-yr   \n",
            "4    october      normal  gt-norm     norm  yes  same-lst-two-yrs   \n",
            "..       ...         ...      ...      ...  ...               ...   \n",
            "678    april      normal  gt-norm     norm  yes  same-lst-two-yrs   \n",
            "679    april   lt-normal  gt-norm  lt-norm  yes     diff-lst-year   \n",
            "680     june   lt-normal  gt-norm  lt-norm  yes     diff-lst-year   \n",
            "681    april   lt-normal  gt-norm  lt-norm  yes       same-lst-yr   \n",
            "682     june   lt-normal  gt-norm  lt-norm  yes       same-lst-yr   \n",
            "\n",
            "    area-damaged    severity   seed-tmt germination  ... fruit-pods  \\\n",
            "0      low-areas  pot-severe       none      90-100  ...       norm   \n",
            "1      scattered      severe  fungicide       80-89  ...       norm   \n",
            "2      scattered      severe  fungicide       lt-80  ...       norm   \n",
            "3      scattered      severe       none       80-89  ...       norm   \n",
            "4      scattered  pot-severe       none       lt-80  ...       norm   \n",
            "..           ...         ...        ...         ...  ...        ...   \n",
            "678  upper-areas  pot-severe       none       80-89  ...       norm   \n",
            "679    scattered  pot-severe       none       80-89  ...        dna   \n",
            "680    scattered  pot-severe       none       80-89  ...        dna   \n",
            "681  whole-field  pot-severe       none       80-89  ...        dna   \n",
            "682  whole-field  pot-severe       none       80-89  ...        dna   \n",
            "\n",
            "    fruit-spots  seed mold-growth seed-discolor seed-size shriveling   roots  \\\n",
            "0           dna  norm      absent        absent      norm     absent    norm   \n",
            "1           dna  norm      absent        absent      norm     absent    norm   \n",
            "2           dna  norm      absent        absent      norm     absent    norm   \n",
            "3           dna  norm      absent        absent      norm     absent    norm   \n",
            "4           dna  norm      absent        absent      norm     absent    norm   \n",
            "..          ...   ...         ...           ...       ...        ...     ...   \n",
            "678      absent  norm      absent        absent      norm     absent    norm   \n",
            "679      absent  norm      absent        absent      norm     absent  rotted   \n",
            "680      absent  norm      absent        absent      norm     absent  rotted   \n",
            "681      absent  norm      absent        absent      norm     absent  rotted   \n",
            "682      absent  norm      absent        absent      norm     absent  rotted   \n",
            "\n",
            "                     class teste num  \n",
            "0    diaporthe-stem-canker    1.0000  \n",
            "1    diaporthe-stem-canker    2.0000  \n",
            "2    diaporthe-stem-canker    3.0000  \n",
            "3    diaporthe-stem-canker    4.0000  \n",
            "4    diaporthe-stem-canker    4.0000  \n",
            "..                     ...       ...  \n",
            "678           2-4-d-injury    5.8875  \n",
            "679       herbicide-injury    5.8875  \n",
            "680       herbicide-injury    5.8875  \n",
            "681       herbicide-injury    5.8875  \n",
            "682       herbicide-injury    5.8875  \n",
            "\n",
            "[683 rows x 37 columns]\n"
          ]
        }
      ]
    },
    {
      "cell_type": "code",
      "source": [
        "data2.isnull().sum() #mostrando a quantidade de dados NaN novamente"
      ],
      "metadata": {
        "id": "_Ipzl8INWmxC"
      },
      "execution_count": null,
      "outputs": []
    },
    {
      "cell_type": "code",
      "source": [
        "data2 #mostrando todo o dataframe"
      ],
      "metadata": {
        "id": "VqM-Qz9yW0I9"
      },
      "execution_count": null,
      "outputs": []
    },
    {
      "cell_type": "code",
      "source": [
        "data2.to_csv('soybeanTratado1.csv', sep=',', encoding='utf-8', index = False) #exportando o dataframe tratado"
      ],
      "metadata": {
        "id": "42ybm5DBXFmR"
      },
      "execution_count": null,
      "outputs": []
    }
  ]
}